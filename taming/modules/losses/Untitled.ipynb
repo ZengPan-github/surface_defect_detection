{
 "cells": [
  {
   "cell_type": "code",
   "execution_count": 1,
   "id": "5be3355b-32e0-48b6-9e1f-8238ef268e30",
   "metadata": {},
   "outputs": [],
   "source": [
    "from msssim import MS_SSIMLoss\n",
    "import torch"
   ]
  },
  {
   "cell_type": "code",
   "execution_count": 19,
   "id": "015e9d0b-455f-4f33-99c8-aee866cd756a",
   "metadata": {},
   "outputs": [
    {
     "data": {
      "text/plain": [
       "tensor(1.1596)"
      ]
     },
     "execution_count": 19,
     "metadata": {},
     "output_type": "execute_result"
    }
   ],
   "source": [
    "input1 = torch.Tensor(1, 1, 256, 256)\n",
    "input1.uniform_(-1.0,1.0)\n",
    "input2 = torch.Tensor(1, 1, 256, 256)\n",
    "input2.uniform_(-1.0,1.0)\n",
    "criterion = MS_SSIMLoss(compensation=3, alpha=0.1,data_range=2.0)\n",
    "loss = criterion(input1, input2)\n",
    "loss"
   ]
  },
  {
   "cell_type": "code",
   "execution_count": 20,
   "id": "93840d16-b4da-491d-9d20-782cba16fdd1",
   "metadata": {},
   "outputs": [
    {
     "data": {
      "text/plain": [
       "tensor(0.6667)"
      ]
     },
     "execution_count": 20,
     "metadata": {},
     "output_type": "execute_result"
    }
   ],
   "source": [
    "torch.abs(input1-input2).mean()"
   ]
  },
  {
   "cell_type": "code",
   "execution_count": null,
   "id": "4e42f417-87ff-4934-beba-d7ac74ce8df9",
   "metadata": {},
   "outputs": [],
   "source": []
  }
 ],
 "metadata": {
  "kernelspec": {
   "display_name": "Python 3 (ipykernel)",
   "language": "python",
   "name": "python3"
  },
  "language_info": {
   "codemirror_mode": {
    "name": "ipython",
    "version": 3
   },
   "file_extension": ".py",
   "mimetype": "text/x-python",
   "name": "python",
   "nbconvert_exporter": "python",
   "pygments_lexer": "ipython3",
   "version": "3.8.10"
  }
 },
 "nbformat": 4,
 "nbformat_minor": 5
}
